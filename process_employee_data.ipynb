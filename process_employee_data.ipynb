{
  "nbformat": 4,
  "nbformat_minor": 0,
  "metadata": {
    "colab": {
      "provenance": [],
      "mount_file_id": "1wSbc4WJfrJi8rhEL0d-5ToM-zaDkmtdh",
      "authorship_tag": "ABX9TyMQy0RFCb3VtPymfcelR0Vt",
      "include_colab_link": true
    },
    "kernelspec": {
      "name": "python3",
      "display_name": "Python 3"
    },
    "language_info": {
      "name": "python"
    }
  },
  "cells": [
    {
      "cell_type": "markdown",
      "metadata": {
        "id": "view-in-github",
        "colab_type": "text"
      },
      "source": [
        "<a href=\"https://colab.research.google.com/github/Jasnain24/Project/blob/main/process_employee_data.ipynb\" target=\"_parent\"><img src=\"https://colab.research.google.com/assets/colab-badge.svg\" alt=\"Open In Colab\"/></a>"
      ]
    },
    {
      "cell_type": "markdown",
      "source": [
        "**Importing pandas library**"
      ],
      "metadata": {
        "id": "31oK9Zo-x2fR"
      }
    },
    {
      "cell_type": "code",
      "source": [
        "import pandas as pd\n",
        "from datetime import datetime\n"
      ],
      "metadata": {
        "id": "PzIBL9GBx6Ol"
      },
      "execution_count": 30,
      "outputs": []
    },
    {
      "cell_type": "markdown",
      "source": [
        "**Uploading the csv file**"
      ],
      "metadata": {
        "id": "kwt4Gu3FyM7e"
      }
    },
    {
      "cell_type": "code",
      "source": [
        "from google.colab import drive\n",
        "drive.mount('/content/drive')"
      ],
      "metadata": {
        "colab": {
          "base_uri": "https://localhost:8080/"
        },
        "id": "mRydl5gmyhNn",
        "outputId": "2b6cf6b7-6258-45ee-ac96-5f1b24c8cdb7"
      },
      "execution_count": 3,
      "outputs": [
        {
          "output_type": "stream",
          "name": "stdout",
          "text": [
            "Drive already mounted at /content/drive; to attempt to forcibly remount, call drive.mount(\"/content/drive\", force_remount=True).\n"
          ]
        }
      ]
    },
    {
      "cell_type": "code",
      "source": [
        "file_path = '/content/drive/MyDrive/project/employees.csv'\n",
        "df = pd.read_csv(file_path)\n",
        "print(df.head())"
      ],
      "metadata": {
        "colab": {
          "base_uri": "https://localhost:8080/"
        },
        "id": "iR_aPFhlyzmL",
        "outputId": "91b96496-1603-4e3f-f8ad-5843844511f8"
      },
      "execution_count": 5,
      "outputs": [
        {
          "output_type": "stream",
          "name": "stdout",
          "text": [
            "               Name Department Joining Date  Salary\n",
            "0   Douglas Lindsey  Marketing    5-18-2014   63596\n",
            "1  Anthony Roberson         IT   04-12-2013  112540\n",
            "2     Thomas Miller         IT    7-28-2014   66292\n",
            "3      Joshua Lewis  Marketing   04-03-2013   38303\n",
            "4  Stephanie Bailey         IT   11-20-2014  101133\n"
          ]
        }
      ]
    },
    {
      "cell_type": "markdown",
      "source": [
        "**Convert Joining date to date time format**"
      ],
      "metadata": {
        "id": "vHmOdQ1WzcUa"
      }
    },
    {
      "cell_type": "code",
      "source": [
        "def process_employee_data(file_path: str) -> pd.DataFrame: df['Joining Date'] = pd.to_datetime(df['Joining Date'], format='%m-%d-%Y')"
      ],
      "metadata": {
        "id": "GpBoHkmL0bGG"
      },
      "execution_count": 32,
      "outputs": []
    },
    {
      "cell_type": "markdown",
      "source": [
        "**To calculate salary by department**"
      ],
      "metadata": {
        "id": "ngREGnQX1N2z"
      }
    },
    {
      "cell_type": "markdown",
      "source": [
        "**Total salary paid per department**"
      ],
      "metadata": {
        "id": "YyLOrzue2Er3"
      }
    },
    {
      "cell_type": "code",
      "source": [
        "def process_employee_data(file_path: str) -> pd.DataFrame: total_salary_per_dept = df.groupby('Department')['Salary'].sum()\n",
        "print(\"\\nTotal Salary Paid Per Department:\")\n",
        "print(total_salary_per_dept)"
      ],
      "metadata": {
        "colab": {
          "base_uri": "https://localhost:8080/"
        },
        "id": "cKTO9CpX1LWX",
        "outputId": "2b0d655b-ba15-48b1-a001-77b7b2f172b1"
      },
      "execution_count": 33,
      "outputs": [
        {
          "output_type": "stream",
          "name": "stdout",
          "text": [
            "\n",
            "Total Salary Paid Per Department:\n",
            "Department\n",
            "Finance      3292103\n",
            "HR           2349502\n",
            "IT           3050446\n",
            "Marketing    3165202\n",
            "Sales        3466596\n",
            "Name: Salary, dtype: int64\n"
          ]
        }
      ]
    },
    {
      "cell_type": "markdown",
      "source": [
        "**Employee's Tenure from Highest to lowest**"
      ],
      "metadata": {
        "id": "Og4KF1NM2zHQ"
      }
    },
    {
      "cell_type": "code",
      "source": [
        "def process_employee_data(file_path: str) -> pd.DataFrame: current_date = datetime.now()\n",
        "df['Tenure (Years)'] = (current_date - df['Joining Date']).dt.days / 365"
      ],
      "metadata": {
        "id": "IOLVwvVH3qGe"
      },
      "execution_count": 34,
      "outputs": []
    },
    {
      "cell_type": "code",
      "source": [
        "def process_employee_data(file_path: str) -> pd.DataFrame: sorted_by_tenure = df.sort_values(by='Tenure (Years)', ascending=False)"
      ],
      "metadata": {
        "id": "EIZOuvPY3voL"
      },
      "execution_count": 35,
      "outputs": []
    },
    {
      "cell_type": "code",
      "source": [
        "def process_employee_data(file_path: str) -> pd.DataFrame: print(\"\\nEmployees sorted by tenure from highest to lowest:\")\n",
        "print(sorted_by_tenure[['Name', 'Department', 'Tenure (Years)']])"
      ],
      "metadata": {
        "colab": {
          "base_uri": "https://localhost:8080/"
        },
        "id": "kVjC4Wdr319W",
        "outputId": "785a54fd-99cd-4fb7-8f8a-79f0257e8c71"
      },
      "execution_count": 36,
      "outputs": [
        {
          "output_type": "stream",
          "name": "stdout",
          "text": [
            "                Name Department  Tenure (Years)\n",
            "172    Joshua Fowler  Marketing       15.657534\n",
            "11     Joshua Nelson      Sales       14.632877\n",
            "103    Ronald Flores      Sales       14.413699\n",
            "160       Ryan Avila      Sales       14.232877\n",
            "33   Steven Anderson  Marketing       13.123288\n",
            "..               ...        ...             ...\n",
            "84       Mark Wilson      Sales        9.742466\n",
            "46       Jamie Wells      Sales        9.698630\n",
            "63    Janet Campbell    Finance        9.668493\n",
            "126    Alicia Butler    Finance        9.663014\n",
            "149     Brett Butler    Finance        9.660274\n",
            "\n",
            "[200 rows x 3 columns]\n"
          ]
        }
      ]
    },
    {
      "cell_type": "markdown",
      "source": [
        "**Employees who have been with the company for more than 2 years**"
      ],
      "metadata": {
        "id": "KlolD0Uc4Wgd"
      }
    },
    {
      "cell_type": "code",
      "source": [
        "def process_employee_data(file_path: str) -> pd.DataFrame: employees_over_2_years = df[df['Tenure (Years)'] > 2]"
      ],
      "metadata": {
        "id": "bcsp09PM4gUi"
      },
      "execution_count": 37,
      "outputs": []
    },
    {
      "cell_type": "code",
      "source": [
        "def process_employee_data(file_path: str) -> pd.DataFrame: print(\"\\nEmployees with more than 2 years in the company:\")\n",
        "print(employees_over_2_years[['Name', 'Department', 'Tenure (Years)']])"
      ],
      "metadata": {
        "colab": {
          "base_uri": "https://localhost:8080/"
        },
        "id": "TwVOv4Vt4pxe",
        "outputId": "c661c8b8-42d4-416e-893f-d67439e2b6b4"
      },
      "execution_count": 38,
      "outputs": [
        {
          "output_type": "stream",
          "name": "stdout",
          "text": [
            "                  Name Department  Tenure (Years)\n",
            "0      Douglas Lindsey  Marketing       10.339726\n",
            "1     Anthony Roberson         IT       11.438356\n",
            "2        Thomas Miller         IT       10.145205\n",
            "3         Joshua Lewis  Marketing       11.463014\n",
            "4     Stephanie Bailey         IT        9.830137\n",
            "..                 ...        ...             ...\n",
            "195   Stephanie Fisher         HR       10.975342\n",
            "196      Jeremy Miller         IT       11.238356\n",
            "197      Daniel Pierce    Finance       10.273973\n",
            "198  Michael Hernandez  Marketing       13.024658\n",
            "199   Victor Gutierrez         IT       11.556164\n",
            "\n",
            "[200 rows x 3 columns]\n"
          ]
        }
      ]
    },
    {
      "cell_type": "markdown",
      "source": [
        "**Top 3 highest-paid employees in the company**"
      ],
      "metadata": {
        "id": "VyIFDimt7rxV"
      }
    },
    {
      "cell_type": "code",
      "source": [
        "def process_employee_data(file_path: str) -> pd.DataFrame: top_3_employees = df.nlargest(3, 'Salary')\n",
        "print(\"\\nTop 3 highest-paid employees:\")\n",
        "print(top_3_employees[['Name', 'Department', 'Salary']])"
      ],
      "metadata": {
        "colab": {
          "base_uri": "https://localhost:8080/"
        },
        "id": "SPwAJTR88CFN",
        "outputId": "89b38055-06ed-4880-de3c-e0aea235e980"
      },
      "execution_count": 39,
      "outputs": [
        {
          "output_type": "stream",
          "name": "stdout",
          "text": [
            "\n",
            "Top 3 highest-paid employees:\n",
            "               Name Department  Salary\n",
            "27    Susan Johnson    Finance  119895\n",
            "166  Anthony Barton  Marketing  119567\n",
            "78      Daniel Mata         IT  119208\n"
          ]
        }
      ]
    },
    {
      "cell_type": "markdown",
      "source": [
        "**Adding new column called Annual Salary, which multiplies the Salary column by 6**"
      ],
      "metadata": {
        "id": "pIUGr1Xy8RNZ"
      }
    },
    {
      "cell_type": "code",
      "source": [
        "def process_employee_data(file_path: str) -> pd.DataFrame: df['Annual Salary'] = df['Salary'] * 6\n",
        "print(\"\\nDataFrame with new Annual Salary column:\")\n",
        "print(df[['Name','Department','Salary','Joining Date', 'Annual Salary']])"
      ],
      "metadata": {
        "colab": {
          "base_uri": "https://localhost:8080/"
        },
        "id": "bspYs5_Y87QC",
        "outputId": "bb48bc2f-672d-4587-92a0-cc3a1c66d99b"
      },
      "execution_count": 40,
      "outputs": [
        {
          "output_type": "stream",
          "name": "stdout",
          "text": [
            "\n",
            "DataFrame with new Annual Salary column:\n",
            "                  Name Department  Salary Joining Date  Annual Salary\n",
            "0      Douglas Lindsey  Marketing   63596   2014-05-18         381576\n",
            "1     Anthony Roberson         IT  112540   2013-04-12         675240\n",
            "2        Thomas Miller         IT   66292   2014-07-28         397752\n",
            "3         Joshua Lewis  Marketing   38303   2013-04-03         229818\n",
            "4     Stephanie Bailey         IT  101133   2014-11-20         606798\n",
            "..                 ...        ...     ...          ...            ...\n",
            "195   Stephanie Fisher         HR   50051   2013-09-28         300306\n",
            "196      Jeremy Miller         IT   46612   2013-06-24         279672\n",
            "197      Daniel Pierce    Finance   32992   2014-06-11         197952\n",
            "198  Michael Hernandez  Marketing  104216   2011-09-11         625296\n",
            "199   Victor Gutierrez         IT  104341   2013-02-28         626046\n",
            "\n",
            "[200 rows x 5 columns]\n"
          ]
        }
      ]
    },
    {
      "cell_type": "markdown",
      "source": [
        "**Grouping employees by their department**"
      ],
      "metadata": {
        "id": "7a8CLpdz9h4q"
      }
    },
    {
      "cell_type": "markdown",
      "source": [
        "**Calculating the average salary per department**"
      ],
      "metadata": {
        "id": "P0_KXcxI9twl"
      }
    },
    {
      "cell_type": "code",
      "source": [
        "def process_employee_data(file_path: str) -> pd.DataFrame: avg_salary_per_dept = df.groupby('Department')['Salary'].mean()\n",
        "print(\"\\nAverage Salary Per Department:\")\n",
        "print(avg_salary_per_dept)"
      ],
      "metadata": {
        "colab": {
          "base_uri": "https://localhost:8080/"
        },
        "id": "3XiGWBc39zY-",
        "outputId": "7aeb9336-265b-42fa-8d1e-3471dd872f49"
      },
      "execution_count": 41,
      "outputs": [
        {
          "output_type": "stream",
          "name": "stdout",
          "text": [
            "\n",
            "Average Salary Per Department:\n",
            "Department\n",
            "Finance      80295.195122\n",
            "HR           73421.937500\n",
            "IT           80274.894737\n",
            "Marketing    75361.952381\n",
            "Sales        73757.361702\n",
            "Name: Salary, dtype: float64\n"
          ]
        }
      ]
    }
  ]
}